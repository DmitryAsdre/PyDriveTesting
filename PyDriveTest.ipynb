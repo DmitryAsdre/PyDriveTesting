{
 "cells": [
  {
   "cell_type": "code",
   "execution_count": 12,
   "metadata": {},
   "outputs": [
    {
     "name": "stdout",
     "output_type": "stream",
     "text": [
      "Your browser has been opened to visit:\n",
      "\n",
      "    https://accounts.google.com/o/oauth2/auth?client_id=476590316138-vn4rfbfagi83pmfogh7qtspaip000keo.apps.googleusercontent.com&redirect_uri=http%3A%2F%2Flocalhost%3A8080%2F&scope=https%3A%2F%2Fwww.googleapis.com%2Fauth%2Fdrive&access_type=offline&response_type=code\n",
      "\n",
      "Authentication successful.\n"
     ]
    }
   ],
   "source": [
    "from pydrive.auth import GoogleAuth\n",
    "from pydrive.drive import GoogleDrive\n",
    "\n",
    "gauth = GoogleAuth()\n",
    "gauth.LocalWebserverAuth()\n",
    "\n",
    "drive = GoogleDrive(gauth)"
   ]
  },
  {
   "cell_type": "code",
   "execution_count": 13,
   "metadata": {},
   "outputs": [],
   "source": [
    "file1 = drive.CreateFile({'title': 'Hello.txt'})\n",
    "file1.SetContentString('Hello')\n",
    "file1.Upload() # Files.insert()\n",
    "\n"
   ]
  },
  {
   "cell_type": "code",
   "execution_count": 48,
   "metadata": {},
   "outputs": [
    {
     "name": "stdout",
     "output_type": "stream",
     "text": [
      "hello.png\n",
      "HelloWorld.txt\n",
      "HelloWorld.txt\n",
      "Hello.txt\n",
      "Hello.txt\n",
      "discriminator0.bin\n",
      "GanPictures\n",
      "GanDumps\n",
      "Colab Notebooks\n"
     ]
    }
   ],
   "source": [
    "for file1 in file_list:\n",
    "    print(file1['title'])\n",
    "    if file1['title'] == 'GanDumps':\n",
    "        gan_pictures_id = file1['id']"
   ]
  },
  {
   "cell_type": "code",
   "execution_count": 49,
   "metadata": {},
   "outputs": [
    {
     "data": {
      "text/plain": [
       "'127bcnqkuiupOoVyYbpZ29eOCBQF0j0k6'"
      ]
     },
     "execution_count": 49,
     "metadata": {},
     "output_type": "execute_result"
    }
   ],
   "source": [
    "gan_pictures_id"
   ]
  },
  {
   "cell_type": "code",
   "execution_count": 52,
   "metadata": {},
   "outputs": [
    {
     "name": "stdout",
     "output_type": "stream",
     "text": [
      "title: generator22.bin, id: 12qv5WFcNoX2PexRjyrVQBYct1mHtggXk\n",
      "title: discriminator22.bin, id: 12vM-X68AyE0fJatM8lijVwHnVgenNtBI\n",
      "title: generator21.bin, id: 12me2Vt0EMn5n-DhbiTJgFwYyTKjjmBuO\n",
      "title: discriminator21.bin, id: 12oCukF4YcG7p9lcyL7pYOPowyZF2loQh\n",
      "title: generator20.bin, id: 12Xsi0deTZVikTjbY4-Yga62XXBP2sMC9\n",
      "title: discriminator20.bin, id: 12ZAa_qJev8qd5sQSg8A86Wn5jbzJBaAv\n",
      "title: generator19.bin, id: 12SloxOtjYaAtl2oejWuq-TsKXkJpQQRN\n",
      "title: discriminator19.bin, id: 12VPwTmnDPh2qvV_757nhUEHljngXPDwJ\n",
      "title: generator18.bin, id: 12PP4I7GCaa2jA28wBLcnP2spmx1XZoZ0\n",
      "title: discriminator18.bin, id: 12RpXfGYQGdlUhUART7ziPgmlbRjOPH0E\n",
      "title: generator17.bin, id: 11pmQIPzAo889t1YRkDyl2c-RCXvQthRn\n",
      "title: discriminator17.bin, id: 1283WPdSela3_w472QM64u2QO1bTUGHDe\n",
      "title: generator16.bin, id: 11g_uA7C70YsF_r7K_t1zVeoZ84TvHnbX\n",
      "title: discriminator16.bin, id: 11hFhcPi7gsk8zGhVJhGIWQC8DmK-2yFl\n",
      "title: generator15.bin, id: 11ajLqoi-VHJhZiY-4NcYXrZgRrj25j-J\n",
      "title: discriminator15.bin, id: 11cgghh29-17k1RqmaJrRj6yARclFb_2P\n",
      "title: generator14.bin, id: 11Rvqc9x8lPeHpAQm85fhLEPFe7V0AzBn\n",
      "title: discriminator14.bin, id: 11Y7jMFQYXFPtXJPa_8b5m1tOxBlt73QN\n",
      "title: generator13.bin, id: 11D5INPHRyOrUQ3d5PtgVKgZC6yzbWk7A\n",
      "title: discriminator13.bin, id: 11QET3UnBa8RDdQ8qklO1dYnQEJv30U2f\n",
      "title: generator12.bin, id: 118f1kLmKOEWf04P5Apfw9vmcyO1CSWk0\n",
      "title: discriminator12.bin, id: 11BHBQas8ipEQG24j9vvhTHRJkLX6gclj\n",
      "title: generator11.bin, id: 10yElQZxq3ffwhrRNd8Dzocjq3jhfb1KN\n",
      "title: discriminator11.bin, id: 116Vyeh52y_OGznwzFVZN-nSGcj9LzNlK\n",
      "title: generator10.bin, id: 10rSukkuRHXpQabkr8N3-QibXbwv4T37c\n",
      "title: discriminator10.bin, id: 10uYn9MjBiN6sDV_xJZgoITaGBZc1MBk4\n",
      "title: generator9.bin, id: 10h4i9JEAdJMtIz7QnePg8PxxyFfGbwna\n",
      "title: discriminator9.bin, id: 10jD_spwZDjSDphYs3r1eGeyJm4ZmSK2y\n",
      "title: generator8.bin, id: 10bPm79Gh7Wj4JTkj8rGSWUdjN7qJngDm\n",
      "title: discriminator8.bin, id: 10fmJQ9x_IjfSkzuYHNa1_lBDcgbt01iu\n",
      "title: generator7.bin, id: 10VORNnxxgS97iTaZvssM8VrLnV1QpRx8\n",
      "title: discriminator7.bin, id: 10VesBQdSMCfJ_zohI9YHw2-h6V-oJ9Ez\n",
      "title: generator6.bin, id: 10ODY8ZzDCwRmSCgdiC1zF0XeESy2xIl-\n",
      "title: discriminator6.bin, id: 10OEkR48E8ieIT7u5jBfpaCWprBCV_S2p\n",
      "title: generator5.bin, id: 1-xx4BtwtgO0AQR0fgJc9fJ7HBmZUHDZ0\n",
      "title: discriminator5.bin, id: 1046MqZpfwXPVl6joz--1wKz-XB38IGIW\n",
      "title: generator4.bin, id: 1-t6nafx6w-FbgdRvcIk3nB7gumTCoGu_\n",
      "title: discriminator4.bin, id: 1-tvrdssf_spN_jO83W889N5-pIk458x4\n",
      "title: generator3.bin, id: 1-ik9KSfwo3Evu_dn8LCRSgqNqy2lRw-z\n",
      "title: discriminator3.bin, id: 1-mIeNXKSdSaw-KKMOr0pLwDp5MMWc2Jc\n",
      "title: generator2.bin, id: 1-TCosUxzVY-cmKjEbygiI14DriB6x8P9\n",
      "title: discriminator2.bin, id: 1-d3NBzljAdjOUsoQiVLh0XXvHsHW5xDp\n",
      "title: generator1.bin, id: 1-JG8JrqzTNZ2vO5FGx2nh_RqYj13D5GH\n",
      "title: discriminator1.bin, id: 1-JgZ1O8HzvntTdB16Zak6NgYHhTI_U1g\n",
      "title: generator0.bin, id: 1-Dg_nQIsyimijNPVdWd_JYonz0X8mqoO\n",
      "title: discriminator0.bin, id: 1-E30GIjd4lNmSh74MhZuUSCrexPd7CW1\n"
     ]
    }
   ],
   "source": [
    "file_list = drive.ListFile({'q': \"'\" + str(gan_pictures_id) + \"' in parents\"}).GetList()\n",
    "for file1 in file_list:\n",
    "    file1.GetContentFile('GanDumps/' + file1['title'])\n",
    "    file1.Delete()\n",
    "    print('title: %s, id: %s' % (file1['title'], file1['id']))"
   ]
  },
  {
   "cell_type": "code",
   "execution_count": 47,
   "metadata": {},
   "outputs": [
    {
     "name": "stdout",
     "output_type": "stream",
     "text": [
      "title: hello.png, id: 1d3E-Ad69tdRVnnAwfwuwUYdbG2RAKOA1\n",
      "title: HelloWorld.txt, id: 1OTSbyDCIYAUZ5RwnoKNQja-5QFcb62xt\n",
      "title: HelloWorld.txt, id: 1GpnN_mYLhUBr-sW24p9fROdaVkqD7-If\n",
      "title: Hello.txt, id: 1yXF9Veh1PaIQHZVI1K8ftUcYOibSqz2Z\n",
      "title: Hello.txt, id: 1LNI5lPjdbXJ3Y63B8oUN4KY8cISG3bkj\n",
      "title: discriminator0.bin, id: 1-BNLO_A97VDQ3Wi_6uFbHmenCB5J-TFN\n",
      "title: GanPictures, id: 1-54p155yQtP672dt1fG3mXrYjh3bEKTg\n",
      "title: GanDumps, id: 127bcnqkuiupOoVyYbpZ29eOCBQF0j0k6\n",
      "title: Colab Notebooks, id: 1MAOW5ZKC3pODuSr3NMecgskwQPSeVp7t\n"
     ]
    }
   ],
   "source": [
    "file_list = drive.ListFile({'q': \"'root' in parents\"}).GetList()\n",
    "for file1 in file_list:\n",
    "  print('title: %s, id: %s' % (file1['title'], file1['id']))"
   ]
  },
  {
   "cell_type": "code",
   "execution_count": 27,
   "metadata": {},
   "outputs": [
    {
     "name": "stdout",
     "output_type": "stream",
     "text": [
      "Created file hello.png with mimeType image/jpeg\n"
     ]
    }
   ],
   "source": [
    "file1 = drive.CreateFile({'title': 'Hello.txt'})\n",
    "file1.SetContentString('Hello')\n",
    "file1.Upload() # Files.insert()\n",
    "\n",
    "file1['title'] = 'HelloWorld.txt'  # Change title of the file\n",
    "file1.Upload() # Files.patch()\n",
    "\n",
    "content = file1.GetContentString()  # 'Hello'\n",
    "file1.SetContentString(content+' World!')  # 'Hello World!'\n",
    "file1.Upload() # Files.update()\n",
    "\n",
    "file2 = drive.CreateFile()\n",
    "file2.SetContentFile('hello.png')\n",
    "file2.Upload()\n",
    "print('Created file %s with mimeType %s' % (file2['title'],\n",
    "file2['mimeType']))\n",
    "# Created file hello.png with mimeType image/png"
   ]
  },
  {
   "cell_type": "code",
   "execution_count": 24,
   "metadata": {},
   "outputs": [
    {
     "name": "stdout",
     "output_type": "stream",
     "text": [
      "title: 22.png, id: 12wiEbUznlFQz54N1XaqSEBm982cs_e5_\n",
      "title: 21.png, id: 12pZZOn1SPCx4-0QoRuoYpwd5OhAjvjLn\n",
      "title: 20.png, id: 12dmf8T85uykp_acN-YDJNrH-2xi5j9zu\n",
      "title: 19.png, id: 12XDCh48zq3onL7YtljIbtG9HX81a3e0s\n",
      "title: 18.png, id: 12S2O-q717FtFOpVUASXRdPcGOYXOV-e2\n",
      "title: 17.png, id: 12IvOR7WXiTtWB4mFocIz13X0_KkQsXka\n",
      "title: 16.png, id: 11ha3O-itbvQtmeCokva7Ue_1pdHPFhcc\n",
      "title: 15.png, id: 11eTbRLKDE1hDWoO6pm-Ycydu3YR7Dk8b\n",
      "title: 14.png, id: 11_n5pLb6D-yGJmhVyo_y38FohYIBKAiD\n",
      "title: 13.png, id: 11Rjxx7vmygtP4_z6gVOhWa98uH6BJuOk\n",
      "title: 12.png, id: 11BL6MoQuRxykMH3zZefuIvLUXzX0hUz_\n",
      "title: 11.png, id: 117wNq3PleK3pWo2vLrrxBYVBkqDN2VKe\n",
      "title: 10.png, id: 10xql5crclem05_qa3ZH98-JHlfl8GnO7\n",
      "title: 9.png, id: 10q0zwzlZRMfR-fP5wqEUeZGuMy3fF6X6\n",
      "title: 8.png, id: 10gMrs1MT5tjMcJ48qXjQF1rTWnFEBdna\n",
      "title: 7.png, id: 10ZZx0YUHwGCbnDso4g0jHWLbpxNTtujy\n",
      "title: 6.png, id: 10SuWwcPrmGDm0pa0Enf0vJAiZtczC1tR\n",
      "title: 5.png, id: 10BolRCNIoiQxGW81-fk-g3orJL6vRHo8\n",
      "title: 4.png, id: 1-wuxCEcIhC_uBqmrjWdA-71UOR2uOZsc\n",
      "title: 3.png, id: 1-r0kiaz83JOOXVIbiww1o09LOwfslour\n",
      "title: 2.png, id: 1-f1P9EKjdfGF5sG44Nhgjki6-uxhTyXP\n",
      "title: 1.png, id: 1-MVKDBq0C-mVqNGYrxIsh6LqNKGkFG_F\n",
      "title: 0.png, id: 1-IHSg_8T-g4ChCxsVPpSdcUZa_Cj1cZB\n"
     ]
    }
   ],
   "source": [
    "file_list = drive.ListFile({'q': \"'1-54p155yQtP672dt1fG3mXrYjh3bEKTg' in parents\"}).GetList()\n",
    "for file1 in file_list:\n",
    "  print('title: %s, id: %s' % (file1['title'], file1['id']))"
   ]
  },
  {
   "cell_type": "code",
   "execution_count": 29,
   "metadata": {},
   "outputs": [
    {
     "name": "stdout",
     "output_type": "stream",
     "text": [
      "Downloading file hello.png from Google Drive\n"
     ]
    }
   ],
   "source": [
    "file3 = drive.CreateFile({'id': file2['id']})\n",
    "print('Downloading file %s from Google Drive' % file3['title']) # 'hello.png'\n",
    "file3.GetContentFile('Disk/world.png')  # Save Drive file as a local file"
   ]
  },
  {
   "cell_type": "code",
   "execution_count": null,
   "metadata": {},
   "outputs": [],
   "source": []
  }
 ],
 "metadata": {
  "kernelspec": {
   "display_name": "Python 3",
   "language": "python",
   "name": "python3"
  },
  "language_info": {
   "codemirror_mode": {
    "name": "ipython",
    "version": 3
   },
   "file_extension": ".py",
   "mimetype": "text/x-python",
   "name": "python",
   "nbconvert_exporter": "python",
   "pygments_lexer": "ipython3",
   "version": "3.7.7"
  }
 },
 "nbformat": 4,
 "nbformat_minor": 4
}
